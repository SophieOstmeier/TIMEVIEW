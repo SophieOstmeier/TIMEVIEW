{
 "cells": [
  {
   "cell_type": "code",
   "execution_count": null,
   "metadata": {},
   "outputs": [],
   "source": [
    "from tts.visualize import simple_interactive_plot\n",
    "from tts.data import  _get_tumor_feature_ranges, synthetic_tumor_data, TTSDataset, create_train_val_test_dataloaders, create_dataloader\n",
    "from tts.config import Config\n",
    "from tts.model import TTS\n",
    "from tts.lit_module import LitTTS\n",
    "import pytorch_lightning as pl\n",
    "import numpy as np\n",
    "\n",
    "seed = 0\n",
    "\n",
    "\n",
    "config = Config(n_features=4,n_basis=5,T=1,seed=seed)\n",
    "config.training.batch_size = 3000\n",
    "\n",
    "X, ts, ys = synthetic_tumor_data(2000,20,1.0,0.0,seed=seed,equation='wilkerson')\n",
    "dataset = TTSDataset(config, (X, ts, ys))\n",
    "train_dataloader, val_dataloader, test_dataloader = create_train_val_test_dataloaders(config, dataset)\n",
    "# Or use train_dataloader = create_dataloader(config, dataset, indices, shuffle=True)\n",
    "\n",
    "tts = TTS(config)\n",
    "litmodel = LitTTS(config, tts)\n",
    "\n",
    "\n",
    "tb_logger = pl.loggers.TensorBoardLogger(save_dir='logs/', name='tts')\n",
    "best_val_checkpoint = pl.callbacks.ModelCheckpoint(monitor='val_loss', mode='min', save_top_k=1, filename='best_val')\n",
    "\n",
    "trainer_dict = {\n",
    "    'deterministic': True,\n",
    "    'devices': 1,\n",
    "    'auto_lr_find': True,\n",
    "    'enable_model_summary': False,\n",
    "    'enable_progress_bar': False,\n",
    "    'accelerator': 'cpu',\n",
    "    'max_epochs': 200,\n",
    "    'logger': tb_logger,\n",
    "    'check_val_every_n_epoch': 10,\n",
    "    'log_every_n_steps':1,\n",
    "    'callbacks': [best_val_checkpoint]\n",
    "}\n",
    "\n",
    "\n",
    "trainer = pl.Trainer(**trainer_dict)\n",
    "        \n",
    "trainer.tune(litmodel,train_dataloaders=train_dataloader)\n",
    "        \n",
    "trainer.fit(model=litmodel,train_dataloaders=train_dataloader, val_dataloaders=val_dataloader)\n",
    "\n",
    "litmodel = LitTTS.load_from_checkpoint(best_val_checkpoint.best_model_path, config=config, model=tts)\n",
    "\n"
   ]
  },
  {
   "cell_type": "code",
   "execution_count": null,
   "metadata": {},
   "outputs": [],
   "source": [
    "def trajectory(t, **x):\n",
    "    feature_names = [\"age\",\"weight\",\"initial_tumor_volume\",\"dosage\"]\n",
    "    features = np.array([x[feature_name] for feature_name in feature_names])\n",
    "    return litmodel.model.forecast_trajectory(features,t)\n",
    "\n",
    "\n",
    "simple_interactive_plot(trajectory, 1, (0,2), _get_tumor_feature_ranges(\"age\",\"weight\",\"initial_tumor_volume\",\"dosage\"), n_points=100)"
   ]
  },
  {
   "cell_type": "code",
   "execution_count": null,
   "metadata": {},
   "outputs": [],
   "source": [
    "# Ground truth\n",
    "from tts.visualize import simple_interactive_plot\n",
    "from tts.data import _tumor_volume_2,  _get_tumor_feature_ranges\n",
    "simple_interactive_plot(_tumor_volume_2, 1, (0,2), _get_tumor_feature_ranges(\"age\",\"weight\",\"initial_tumor_volume\",\"dosage\"), n_points=1000)"
   ]
  },
  {
   "cell_type": "code",
   "execution_count": null,
   "metadata": {},
   "outputs": [],
   "source": []
  }
 ],
 "metadata": {
  "kernelspec": {
   "display_name": "Python 3 (ipykernel)",
   "language": "python",
   "name": "python3"
  },
  "language_info": {
   "codemirror_mode": {
    "name": "ipython",
    "version": 3
   },
   "file_extension": ".py",
   "mimetype": "text/x-python",
   "name": "python",
   "nbconvert_exporter": "python",
   "pygments_lexer": "ipython3",
   "version": "3.8.8"
  }
 },
 "nbformat": 4,
 "nbformat_minor": 2
}
