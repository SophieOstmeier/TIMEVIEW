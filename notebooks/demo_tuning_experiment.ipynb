{
 "cells": [
  {
   "cell_type": "markdown",
   "id": "13f5d28f",
   "metadata": {},
   "source": [
    "This is a demo experiment for **tuning**."
   ]
  },
  {
   "cell_type": "code",
   "execution_count": 1,
   "id": "a7f96b51",
   "metadata": {},
   "outputs": [],
   "source": [
    "import sys\n",
    "sys.path.append('../')\n",
    "from train_eval.tuning import tuning"
   ]
  },
  {
   "cell_type": "code",
   "execution_count": 2,
   "id": "970f569e",
   "metadata": {},
   "outputs": [
    {
     "name": "stderr",
     "output_type": "stream",
     "text": [
      "\u001b[32m[I 2023-04-11 13:31:23,049]\u001b[0m A new study created in memory with name: no-name-1093dfe7-7cab-4802-85f9-0675a4d10e5f\u001b[0m\n",
      "/home/tl522/miniconda/envs/tabular-dl/lib/python3.8/site-packages/pytorch_lightning/utilities/seed.py:47: LightningDeprecationWarning: `pytorch_lightning.utilities.seed.seed_everything` has been deprecated in v1.8.0 and will be removed in v2.0.0. Please use `lightning_fabric.utilities.seed.seed_everything` instead.\n",
      "  rank_zero_deprecation(\n",
      "Global seed set to 0\n",
      "GPU available: True (cuda), used: False\n",
      "TPU available: False, using: 0 TPU cores\n",
      "IPU available: False, using: 0 IPUs\n",
      "HPU available: False, using: 0 HPUs\n",
      "/home/tl522/miniconda/envs/tabular-dl/lib/python3.8/site-packages/pytorch_lightning/trainer/setup.py:176: PossibleUserWarning: GPU available but not used. Set `accelerator` and `devices` using `Trainer(accelerator='gpu', devices=1)`.\n",
      "  rank_zero_warn(\n",
      "/home/tl522/miniconda/envs/tabular-dl/lib/python3.8/site-packages/pytorch_lightning/trainer/connectors/data_connector.py:224: PossibleUserWarning: The dataloader, val_dataloader 0, does not have many workers which may be a bottleneck. Consider increasing the value of the `num_workers` argument` (try 36 which is the number of cpus on this machine) in the `DataLoader` init to improve performance.\n",
      "  rank_zero_warn(\n",
      "/home/tl522/miniconda/envs/tabular-dl/lib/python3.8/site-packages/pytorch_lightning/utilities/data.py:84: UserWarning: Trying to infer the `batch_size` from an ambiguous collection. The batch size we found is 128. To avoid any miscalculations, use `self.log(..., batch_size=batch_size)`.\n",
      "  warning_cache.warn(\n",
      "/home/tl522/miniconda/envs/tabular-dl/lib/python3.8/site-packages/pytorch_lightning/utilities/data.py:84: UserWarning: Trying to infer the `batch_size` from an ambiguous collection. The batch size we found is 72. To avoid any miscalculations, use `self.log(..., batch_size=batch_size)`.\n",
      "  warning_cache.warn(\n",
      "/home/tl522/miniconda/envs/tabular-dl/lib/python3.8/site-packages/pytorch_lightning/trainer/connectors/data_connector.py:224: PossibleUserWarning: The dataloader, train_dataloader, does not have many workers which may be a bottleneck. Consider increasing the value of the `num_workers` argument` (try 36 which is the number of cpus on this machine) in the `DataLoader` init to improve performance.\n",
      "  rank_zero_warn(\n",
      "`Trainer.fit` stopped: `max_epochs=200` reached.\n",
      "\u001b[32m[I 2023-04-11 13:32:16,474]\u001b[0m Trial 0 finished with value: 0.016411306336522102 and parameters: {'hidden_size_0': 55, 'hidden_size_1': 39, 'hidden_size_2': 80, 'activation': 'relu', 'dropout_p': 0.3160243623125606, 'lr': 0.001290102403296935, 'batch_size': 128, 'weight_decay': 2.769691182162651e-05}. Best is trial 0 with value: 0.016411306336522102.\u001b[0m\n",
      "/home/tl522/miniconda/envs/tabular-dl/lib/python3.8/site-packages/pytorch_lightning/utilities/seed.py:47: LightningDeprecationWarning: `pytorch_lightning.utilities.seed.seed_everything` has been deprecated in v1.8.0 and will be removed in v2.0.0. Please use `lightning_fabric.utilities.seed.seed_everything` instead.\n",
      "  rank_zero_deprecation(\n",
      "Global seed set to 0\n",
      "GPU available: True (cuda), used: False\n",
      "TPU available: False, using: 0 TPU cores\n",
      "IPU available: False, using: 0 IPUs\n",
      "HPU available: False, using: 0 HPUs\n",
      "/home/tl522/miniconda/envs/tabular-dl/lib/python3.8/site-packages/pytorch_lightning/trainer/setup.py:176: PossibleUserWarning: GPU available but not used. Set `accelerator` and `devices` using `Trainer(accelerator='gpu', devices=1)`.\n",
      "  rank_zero_warn(\n",
      "/home/tl522/miniconda/envs/tabular-dl/lib/python3.8/site-packages/pytorch_lightning/utilities/data.py:84: UserWarning: Trying to infer the `batch_size` from an ambiguous collection. The batch size we found is 16. To avoid any miscalculations, use `self.log(..., batch_size=batch_size)`.\n",
      "  warning_cache.warn(\n",
      "/home/tl522/miniconda/envs/tabular-dl/lib/python3.8/site-packages/pytorch_lightning/utilities/data.py:84: UserWarning: Trying to infer the `batch_size` from an ambiguous collection. The batch size we found is 8. To avoid any miscalculations, use `self.log(..., batch_size=batch_size)`.\n",
      "  warning_cache.warn(\n",
      "\u001b[32m[I 2023-04-11 13:34:11,446]\u001b[0m Trial 1 finished with value: 0.017536109313368797 and parameters: {'hidden_size_0': 102, 'hidden_size_1': 57, 'hidden_size_2': 80, 'activation': 'selu', 'dropout_p': 0.18668106955515418, 'lr': 0.008692716010606021, 'batch_size': 16, 'weight_decay': 0.00011198679241531462}. Best is trial 0 with value: 0.016411306336522102.\u001b[0m\n",
      "Global seed set to 0\n",
      "GPU available: True (cuda), used: False\n",
      "TPU available: False, using: 0 TPU cores\n",
      "IPU available: False, using: 0 IPUs\n",
      "HPU available: False, using: 0 HPUs\n",
      "/home/tl522/miniconda/envs/tabular-dl/lib/python3.8/site-packages/pytorch_lightning/utilities/data.py:84: UserWarning: Trying to infer the `batch_size` from an ambiguous collection. The batch size we found is 64. To avoid any miscalculations, use `self.log(..., batch_size=batch_size)`.\n",
      "  warning_cache.warn(\n",
      "`Trainer.fit` stopped: `max_epochs=200` reached.\n",
      "\u001b[32m[I 2023-04-11 13:35:17,487]\u001b[0m Trial 2 finished with value: 0.02145608514547348 and parameters: {'hidden_size_0': 117, 'hidden_size_1': 92, 'hidden_size_2': 57, 'activation': 'selu', 'dropout_p': 0.21240800613173944, 'lr': 0.0004015452398913905, 'batch_size': 64, 'weight_decay': 0.0007659088760194396}. Best is trial 0 with value: 0.016411306336522102.\u001b[0m\n",
      "Global seed set to 0\n",
      "GPU available: True (cuda), used: False\n",
      "TPU available: False, using: 0 TPU cores\n",
      "IPU available: False, using: 0 IPUs\n",
      "HPU available: False, using: 0 HPUs\n",
      "/home/tl522/miniconda/envs/tabular-dl/lib/python3.8/site-packages/pytorch_lightning/utilities/data.py:84: UserWarning: Trying to infer the `batch_size` from an ambiguous collection. The batch size we found is 32. To avoid any miscalculations, use `self.log(..., batch_size=batch_size)`.\n",
      "  warning_cache.warn(\n",
      "`Trainer.fit` stopped: `max_epochs=200` reached.\n",
      "\u001b[32m[I 2023-04-11 13:36:48,100]\u001b[0m Trial 3 finished with value: 0.016375191509723663 and parameters: {'hidden_size_0': 88, 'hidden_size_1': 97, 'hidden_size_2': 17, 'activation': 'elu', 'dropout_p': 0.3238181839527891, 'lr': 0.0008260838409095498, 'batch_size': 32, 'weight_decay': 2.1444815583306352e-05}. Best is trial 3 with value: 0.016375191509723663.\u001b[0m\n",
      "Global seed set to 0\n",
      "GPU available: True (cuda), used: False\n",
      "TPU available: False, using: 0 TPU cores\n",
      "IPU available: False, using: 0 IPUs\n",
      "HPU available: False, using: 0 HPUs\n",
      "`Trainer.fit` stopped: `max_epochs=200` reached.\n",
      "\u001b[32m[I 2023-04-11 13:38:19,803]\u001b[0m Trial 4 finished with value: 0.009871336631476879 and parameters: {'hidden_size_0': 114, 'hidden_size_1': 112, 'hidden_size_2': 55, 'activation': 'sigmoid', 'dropout_p': 0.406150720682207, 'lr': 0.002362435087956587, 'batch_size': 32, 'weight_decay': 1.1589906009340726e-06}. Best is trial 4 with value: 0.009871336631476879.\u001b[0m\n"
     ]
    },
    {
     "name": "stdout",
     "output_type": "stream",
     "text": [
      "[Best hyperparameter configuration]:\n",
      "{'hidden_size_0': 114, 'hidden_size_1': 112, 'hidden_size_2': 55, 'activation': 'sigmoid', 'dropout_p': 0.406150720682207, 'lr': 0.002362435087956587, 'batch_size': 32, 'weight_decay': 1.1589906009340726e-06}\n",
      "[Tuning complete], saved tuning results to output/tuning/seed_0\n"
     ]
    }
   ],
   "source": [
    "# using n_trials=5 just for testing, you should increase to 100 for experiments\n",
    "tuning(seed=0, tuning_dir='output/tuning', n_trials=5)\n",
    "# NOTE: remember to load best hyperparams found after search in your experiments!!"
   ]
  }
 ],
 "metadata": {
  "kernelspec": {
   "display_name": "Python 3 (ipykernel)",
   "language": "python",
   "name": "python3"
  },
  "language_info": {
   "codemirror_mode": {
    "name": "ipython",
    "version": 3
   },
   "file_extension": ".py",
   "mimetype": "text/x-python",
   "name": "python",
   "nbconvert_exporter": "python",
   "pygments_lexer": "ipython3",
   "version": "3.8.8"
  }
 },
 "nbformat": 4,
 "nbformat_minor": 5
}
