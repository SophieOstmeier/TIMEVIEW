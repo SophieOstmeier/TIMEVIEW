{
 "cells": [
  {
   "cell_type": "markdown",
   "id": "b5cc80ec",
   "metadata": {},
   "source": [
    "This is a demo experiment for **tuning**."
   ]
  },
  {
   "cell_type": "code",
   "execution_count": 1,
   "id": "f9a33c9d",
   "metadata": {},
   "outputs": [],
   "source": [
    "import sys\n",
    "sys.path.append('../')\n",
    "from train_eval.tuning import tuning"
   ]
  },
  {
   "cell_type": "code",
   "execution_count": null,
   "id": "c2c4ab2a",
   "metadata": {},
   "outputs": [
    {
     "name": "stderr",
     "output_type": "stream",
     "text": [
      "\u001b[32m[I 2023-04-11 13:23:31,208]\u001b[0m A new study created in memory with name: no-name-032898c5-a6e8-4f95-aa77-295bff4665ad\u001b[0m\n",
      "/home/tl522/miniconda/envs/tabular-dl/lib/python3.8/site-packages/pytorch_lightning/utilities/seed.py:47: LightningDeprecationWarning: `pytorch_lightning.utilities.seed.seed_everything` has been deprecated in v1.8.0 and will be removed in v2.0.0. Please use `lightning_fabric.utilities.seed.seed_everything` instead.\n",
      "  rank_zero_deprecation(\n",
      "Global seed set to 0\n",
      "GPU available: True (cuda), used: False\n",
      "TPU available: False, using: 0 TPU cores\n",
      "IPU available: False, using: 0 IPUs\n",
      "HPU available: False, using: 0 HPUs\n",
      "/home/tl522/miniconda/envs/tabular-dl/lib/python3.8/site-packages/pytorch_lightning/trainer/setup.py:176: PossibleUserWarning: GPU available but not used. Set `accelerator` and `devices` using `Trainer(accelerator='gpu', devices=1)`.\n",
      "  rank_zero_warn(\n",
      "/home/tl522/miniconda/envs/tabular-dl/lib/python3.8/site-packages/pytorch_lightning/trainer/connectors/data_connector.py:224: PossibleUserWarning: The dataloader, val_dataloader 0, does not have many workers which may be a bottleneck. Consider increasing the value of the `num_workers` argument` (try 36 which is the number of cpus on this machine) in the `DataLoader` init to improve performance.\n",
      "  rank_zero_warn(\n",
      "/home/tl522/miniconda/envs/tabular-dl/lib/python3.8/site-packages/pytorch_lightning/utilities/data.py:84: UserWarning: Trying to infer the `batch_size` from an ambiguous collection. The batch size we found is 16. To avoid any miscalculations, use `self.log(..., batch_size=batch_size)`.\n",
      "  warning_cache.warn(\n",
      "/home/tl522/miniconda/envs/tabular-dl/lib/python3.8/site-packages/pytorch_lightning/trainer/connectors/data_connector.py:224: PossibleUserWarning: The dataloader, train_dataloader, does not have many workers which may be a bottleneck. Consider increasing the value of the `num_workers` argument` (try 36 which is the number of cpus on this machine) in the `DataLoader` init to improve performance.\n",
      "  rank_zero_warn(\n",
      "/home/tl522/miniconda/envs/tabular-dl/lib/python3.8/site-packages/pytorch_lightning/utilities/data.py:84: UserWarning: Trying to infer the `batch_size` from an ambiguous collection. The batch size we found is 8. To avoid any miscalculations, use `self.log(..., batch_size=batch_size)`.\n",
      "  warning_cache.warn(\n",
      "`Trainer.fit` stopped: `max_epochs=200` reached.\n",
      "\u001b[32m[I 2023-04-11 13:25:55,369]\u001b[0m Trial 0 finished with value: 0.02086680382490158 and parameters: {'hidden_size_0': 109, 'hidden_size_1': 88, 'hidden_size_2': 39, 'activation': 'tanh', 'dropout_p': 0.1342130703423054, 'lr': 0.0001337413361425433, 'batch_size': 16, 'weight_decay': 1.2671781397193734e-06}. Best is trial 0 with value: 0.02086680382490158.\u001b[0m\n",
      "/home/tl522/miniconda/envs/tabular-dl/lib/python3.8/site-packages/pytorch_lightning/utilities/seed.py:47: LightningDeprecationWarning: `pytorch_lightning.utilities.seed.seed_everything` has been deprecated in v1.8.0 and will be removed in v2.0.0. Please use `lightning_fabric.utilities.seed.seed_everything` instead.\n",
      "  rank_zero_deprecation(\n",
      "Global seed set to 0\n",
      "GPU available: True (cuda), used: False\n",
      "TPU available: False, using: 0 TPU cores\n",
      "IPU available: False, using: 0 IPUs\n",
      "HPU available: False, using: 0 HPUs\n",
      "/home/tl522/miniconda/envs/tabular-dl/lib/python3.8/site-packages/pytorch_lightning/trainer/setup.py:176: PossibleUserWarning: GPU available but not used. Set `accelerator` and `devices` using `Trainer(accelerator='gpu', devices=1)`.\n",
      "  rank_zero_warn(\n",
      "/home/tl522/miniconda/envs/tabular-dl/lib/python3.8/site-packages/pytorch_lightning/utilities/data.py:84: UserWarning: Trying to infer the `batch_size` from an ambiguous collection. The batch size we found is 128. To avoid any miscalculations, use `self.log(..., batch_size=batch_size)`.\n",
      "  warning_cache.warn(\n",
      "/home/tl522/miniconda/envs/tabular-dl/lib/python3.8/site-packages/pytorch_lightning/utilities/data.py:84: UserWarning: Trying to infer the `batch_size` from an ambiguous collection. The batch size we found is 72. To avoid any miscalculations, use `self.log(..., batch_size=batch_size)`.\n",
      "  warning_cache.warn(\n",
      "`Trainer.fit` stopped: `max_epochs=200` reached.\n",
      "\u001b[32m[I 2023-04-11 13:26:48,468]\u001b[0m Trial 1 finished with value: 0.007486268412321806 and parameters: {'hidden_size_0': 111, 'hidden_size_1': 95, 'hidden_size_2': 56, 'activation': 'tanh', 'dropout_p': 0.029717922891644266, 'lr': 0.000504912928617839, 'batch_size': 128, 'weight_decay': 2.987514437468935e-05}. Best is trial 1 with value: 0.007486268412321806.\u001b[0m\n",
      "Global seed set to 0\n",
      "GPU available: True (cuda), used: False\n",
      "TPU available: False, using: 0 TPU cores\n",
      "IPU available: False, using: 0 IPUs\n",
      "HPU available: False, using: 0 HPUs\n",
      "\u001b[32m[I 2023-04-11 13:28:38,963]\u001b[0m Trial 2 finished with value: 0.009099040180444717 and parameters: {'hidden_size_0': 124, 'hidden_size_1': 91, 'hidden_size_2': 111, 'activation': 'relu', 'dropout_p': 0.035782051436034135, 'lr': 0.0039463001100096436, 'batch_size': 16, 'weight_decay': 3.915209808356443e-06}. Best is trial 1 with value: 0.007486268412321806.\u001b[0m\n",
      "Global seed set to 0\n",
      "GPU available: True (cuda), used: False\n",
      "TPU available: False, using: 0 TPU cores\n",
      "IPU available: False, using: 0 IPUs\n",
      "HPU available: False, using: 0 HPUs\n",
      "/home/tl522/miniconda/envs/tabular-dl/lib/python3.8/site-packages/pytorch_lightning/utilities/data.py:84: UserWarning: Trying to infer the `batch_size` from an ambiguous collection. The batch size we found is 64. To avoid any miscalculations, use `self.log(..., batch_size=batch_size)`.\n",
      "  warning_cache.warn(\n",
      "`Trainer.fit` stopped: `max_epochs=200` reached.\n",
      "\u001b[32m[I 2023-04-11 13:29:48,299]\u001b[0m Trial 3 finished with value: 0.008892199024558067 and parameters: {'hidden_size_0': 122, 'hidden_size_1': 34, 'hidden_size_2': 63, 'activation': 'elu', 'dropout_p': 0.08368452614764282, 'lr': 0.0012051550018801229, 'batch_size': 64, 'weight_decay': 0.00010109909435305188}. Best is trial 1 with value: 0.007486268412321806.\u001b[0m\n",
      "Global seed set to 0\n",
      "GPU available: True (cuda), used: False\n",
      "TPU available: False, using: 0 TPU cores\n",
      "IPU available: False, using: 0 IPUs\n",
      "HPU available: False, using: 0 HPUs\n"
     ]
    }
   ],
   "source": [
    "# using n_trials=5 just for testing, you should increase to 100 for experiments\n",
    "tuning(seed=0, tuning_dir='output/tuning', n_trials=5)\n",
    "# NOTE: remember to load best hyperparams found after search in your experiments!!"
   ]
  }
 ],
 "metadata": {
  "kernelspec": {
   "display_name": "Python 3 (ipykernel)",
   "language": "python",
   "name": "python3"
  },
  "language_info": {
   "codemirror_mode": {
    "name": "ipython",
    "version": 3
   },
   "file_extension": ".py",
   "mimetype": "text/x-python",
   "name": "python",
   "nbconvert_exporter": "python",
   "pygments_lexer": "ipython3",
   "version": "3.8.8"
  }
 },
 "nbformat": 4,
 "nbformat_minor": 5
}
