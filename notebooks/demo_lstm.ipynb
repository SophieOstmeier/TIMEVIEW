{
 "cells": [
  {
   "cell_type": "code",
   "execution_count": 1,
   "id": "e335449b",
   "metadata": {},
   "outputs": [],
   "source": [
    "import sys\n",
    "sys.path.append('../')\n",
    "from baselines.config import RNNConfig\n",
    "from baselines.rnn import RNN"
   ]
  },
  {
   "cell_type": "code",
   "execution_count": 2,
   "id": "18140d7e",
   "metadata": {},
   "outputs": [],
   "source": [
    "config = RNNConfig(decoder_type='lstm', n_features=100, max_len=10)"
   ]
  },
  {
   "cell_type": "code",
   "execution_count": 3,
   "id": "96bd1e7f",
   "metadata": {},
   "outputs": [],
   "source": [
    "model = RNN(config)"
   ]
  },
  {
   "cell_type": "code",
   "execution_count": 4,
   "id": "32faea2f",
   "metadata": {},
   "outputs": [
    {
     "data": {
      "text/plain": [
       "RNN(\n",
       "  (encoder): Encoder(\n",
       "    (encoder): Sequential(\n",
       "      (0): Linear(in_features=100, out_features=32, bias=True)\n",
       "      (1): BatchNorm1d(32, eps=1e-05, momentum=0.1, affine=True, track_running_stats=True)\n",
       "      (2): ReLU()\n",
       "      (3): Linear(in_features=32, out_features=64, bias=True)\n",
       "      (4): BatchNorm1d(64, eps=1e-05, momentum=0.1, affine=True, track_running_stats=True)\n",
       "      (5): ReLU()\n",
       "      (6): Dropout(p=0.2, inplace=False)\n",
       "      (7): Linear(in_features=64, out_features=32, bias=True)\n",
       "    )\n",
       "  )\n",
       "  (decoder): Decoder(\n",
       "    (decoder): LSTM(32, 32, batch_first=True)\n",
       "    (linear): Linear(in_features=32, out_features=1, bias=True)\n",
       "  )\n",
       ")"
      ]
     },
     "execution_count": 4,
     "metadata": {},
     "output_type": "execute_result"
    }
   ],
   "source": [
    "model"
   ]
  },
  {
   "cell_type": "code",
   "execution_count": 5,
   "id": "39affda8",
   "metadata": {},
   "outputs": [],
   "source": [
    "import torch\n",
    "test_input = torch.rand(64, 100) # batch_size, n_features\n",
    "test_output = model(test_input)"
   ]
  },
  {
   "cell_type": "code",
   "execution_count": 6,
   "id": "aa0c7399",
   "metadata": {},
   "outputs": [
    {
     "data": {
      "text/plain": [
       "torch.Size([64, 10])"
      ]
     },
     "execution_count": 6,
     "metadata": {},
     "output_type": "execute_result"
    }
   ],
   "source": [
    "test_output.shape # batch_size, num_time_steps, "
   ]
  }
 ],
 "metadata": {
  "kernelspec": {
   "display_name": "Python 3 (ipykernel)",
   "language": "python",
   "name": "python3"
  },
  "language_info": {
   "codemirror_mode": {
    "name": "ipython",
    "version": 3
   },
   "file_extension": ".py",
   "mimetype": "text/x-python",
   "name": "python",
   "nbconvert_exporter": "python",
   "pygments_lexer": "ipython3",
   "version": "3.8.8"
  }
 },
 "nbformat": 4,
 "nbformat_minor": 5
}
